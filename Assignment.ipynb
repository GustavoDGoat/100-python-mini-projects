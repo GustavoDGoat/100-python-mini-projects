{
 "cells": [
  {
   "cell_type": "code",
   "execution_count": null,
   "id": "a5ce9937",
   "metadata": {},
   "outputs": [],
   "source": [
    "1. Create a Series object from a list of 10 items using a customized index values. \n",
    "2. Create a Series object from a dictionary of 10 items. \n",
    "3. Create a DataFrame object from a Series object with a customized index values\n",
    "4. Create a DataFrame object generated from random values of 5 rows by 5 columns numpy array. Give each columns a title and each index a name.\n",
    "5. Separate the DataFrame in number 4 to its individual Index, Values and Columns"
   ]
  },
  {
   "cell_type": "code",
   "execution_count": 8,
   "id": "f73163f5",
   "metadata": {},
   "outputs": [
    {
     "name": "stdout",
     "output_type": "stream",
     "text": [
      "1. Series from list with custom index:\n",
      "a    23\n",
      "b    45\n",
      "c    12\n",
      "d    67\n",
      "e    89\n",
      "f    34\n",
      "g    56\n",
      "h    78\n",
      "i    90\n",
      "j    11\n",
      "dtype: int64\n"
     ]
    }
   ],
   "source": [
    "import pandas as pd\n",
    "# 1. Create a Series object from a list of 10 items with customized index\n",
    "list_data = [23, 45, 12, 67, 89, 34, 56, 78, 90, 11]\n",
    "custom_index = ['a', 'b', 'c', 'd', 'e', 'f', 'g', 'h', 'i', 'j']\n",
    "series1 = pd.Series(list_data, index=custom_index)\n",
    "print(\"1. Series from list with custom index:\")\n",
    "print(series1)\n"
   ]
  },
  {
   "cell_type": "code",
   "execution_count": 17,
   "id": "2a93cc29",
   "metadata": {},
   "outputs": [
    {
     "name": "stdout",
     "output_type": "stream",
     "text": [
      "age                                                                                22\n",
      "race                                                                            Black\n",
      "Occupation                                                                AI Engineer\n",
      "height                                                                          5:5ft\n",
      "Twitter                                                                      @sirwyde\n",
      "Dream                               To have a chain of companies that are useful t...\n",
      "Role_Model                                                   Tony Stark And Elon Musk\n",
      "Favorite_Streamer                                                      Nick J Fuentes\n",
      "Current_Software_I_Am_Working_On                                             Purge AI\n",
      "Fovorite_AI_Tool                                                            Cursor AI\n",
      "dtype: object\n",
      "\n",
      "\n"
     ]
    }
   ],
   "source": [
    "# 2. Create a Series object from a dictionary of 10 items\n",
    "dictionary_datasets={\n",
    "    'age':22,\n",
    "    'race':'Black',\n",
    "    'Occupation':'AI Engineer',\n",
    "    'height': '5:5ft',\n",
    "    'Twitter': '@sirwyde',\n",
    "    'Dream':'To have a chain of companies that are useful to Humainity',\n",
    "    'Role_Model':'Tony Stark And Elon Musk',\n",
    "    'Favorite_Streamer':'Nick J Fuentes',\n",
    "    'Current_Software_I_Am_Working_On':'Purge AI',\n",
    "    'Fovorite_AI_Tool':'Cursor AI'\n",
    "}\n",
    "\n",
    "Objects=pd.Series(dictionary_datasets)\n",
    "print(Objects)\n",
    "print('\\n')"
   ]
  },
  {
   "cell_type": "code",
   "execution_count": 34,
   "id": "a9a04711",
   "metadata": {},
   "outputs": [
    {
     "name": "stdout",
     "output_type": "stream",
     "text": [
      "3. DataFrame from Series:\n",
      "       Values\n",
      "row 1      18\n",
      "row 2      22\n",
      "row 3      49\n",
      "row 4      50\n",
      "row 5      76\n",
      "\n",
      "\n"
     ]
    }
   ],
   "source": [
    "import pandas as pd\n",
    "import numpy as np\n",
    "# 3. Create a DataFrame from a Series object with customized index\n",
    "series3=pd.Series([18,22,49,50,76,],  index=['row 1', 'row 2', 'row 3', 'row 4', 'row 5'])\n",
    "df_from_series = pd.DataFrame(series3, columns=['Values'])\n",
    "print(\"3. DataFrame from Series:\")\n",
    "print(df_from_series)\n",
    "print(\"\\n\")"
   ]
  },
  {
   "cell_type": "code",
   "execution_count": null,
   "id": "3314e367",
   "metadata": {},
   "outputs": [],
   "source": [
    "# 4. Create a DataFrame from 5x5 numpy array with column titles and index names\n",
    "np.random.seed(42)  # For reproducibility\n",
    "random_array = np.random.rand(5, 5)\n",
    "columns = ['Col1', 'Col2', 'Col3', 'Col4', 'Col5']\n",
    "index_names = ['RowA', 'RowB', 'RowC', 'RowD', 'RowE']\n",
    "df_random = pd.DataFrame(random_array, columns=columns, index=index_names)\n",
    "print(\"4. DataFrame from random 5x5 array:\")\n",
    "print(df_random)\n",
    "print(\"\\n\")\n"
   ]
  },
  {
   "cell_type": "code",
   "execution_count": null,
   "id": "24997399",
   "metadata": {},
   "outputs": [],
   "source": [
    "# 5. Separate the DataFrame into Index, Values, and Columns\n",
    "df_index = df_random.index\n",
    "df_values = df_random.values\n",
    "df_columns = df_random.columns"
   ]
  },
  {
   "cell_type": "code",
   "execution_count": null,
   "id": "03d4e703",
   "metadata": {},
   "outputs": [],
   "source": [
    "#Second Assingnment"
   ]
  },
  {
   "cell_type": "code",
   "execution_count": null,
   "id": "bfe4f1cc",
   "metadata": {},
   "outputs": [],
   "source": [
    "#Assignment 2\n",
    "Using cofee.csv  \n",
    "1. Display the first 5 rows of the coffee sales DataFrame.  \n",
    "2. Select only the \"Coffee Type\" column from the DataFrame.  \n",
    "3. Select the \"Units Sold\" values for Wednesday using label-based indexing.  \n",
    "4. Select all rows where the day is \"Monday\".  \n",
    "5. Select all records where more than 30 units were sold.  \n",
    "6. Select all rows where the coffee type is \"Latte\" and units sold are greater than 25.  \n",
    "7. Filter the DataFrame to show only weekend sales (Saturday and Sunday).  \n",
    "8. Create a filtered view showing only Espresso sales with units sold between 30 and 40 (inclusive).  \n",
    "9. Filter for days where Latte sales were exactly 35 units.  \n",
    "10. Sort the DataFrame by units sold in descending order."
   ]
  },
  {
   "cell_type": "code",
   "execution_count": 37,
   "id": "46b13ce8",
   "metadata": {},
   "outputs": [
    {
     "name": "stdout",
     "output_type": "stream",
     "text": [
      "         Day Coffee Type  Units Sold\n",
      "0     Monday    Espresso          25\n",
      "1     Monday       Latte          15\n",
      "2    Tuesday    Espresso          30\n",
      "3    Tuesday       Latte          20\n",
      "4  Wednesday    Espresso          35\n"
     ]
    }
   ],
   "source": [
    "import pandas as pd\n",
    "\n",
    "# Import the CSV file\n",
    "df = pd.read_csv('coffee.csv')\n",
    "\n",
    "# Display the first few rows to verify\n",
    "print(df.head())"
   ]
  },
  {
   "cell_type": "code",
   "execution_count": 38,
   "id": "cde667e4",
   "metadata": {},
   "outputs": [
    {
     "name": "stdout",
     "output_type": "stream",
     "text": [
      "1. First 5 rows of the DataFrame:\n",
      "         Day Coffee Type  Units Sold\n",
      "0     Monday    Espresso          25\n",
      "1     Monday       Latte          15\n",
      "2    Tuesday    Espresso          30\n",
      "3    Tuesday       Latte          20\n",
      "4  Wednesday    Espresso          35\n",
      "\n",
      "\n"
     ]
    }
   ],
   "source": [
    "# 1. Display the first 5 rows of the DataFrame\n",
    "print(\"1. First 5 rows of the DataFrame:\")\n",
    "print(df.head())\n",
    "print(\"\\n\")"
   ]
  },
  {
   "cell_type": "code",
   "execution_count": 42,
   "id": "1518d2c7",
   "metadata": {},
   "outputs": [
    {
     "name": "stdout",
     "output_type": "stream",
     "text": [
      "2. Coffee Type column:\n",
      "0     Espresso\n",
      "1        Latte\n",
      "2     Espresso\n",
      "3        Latte\n",
      "4     Espresso\n",
      "5        Latte\n",
      "6     Espresso\n",
      "7        Latte\n",
      "8     Espresso\n",
      "9        Latte\n",
      "10    Espresso\n",
      "11       Latte\n",
      "12    Espresso\n",
      "13       Latte\n",
      "Name: Coffee Type, dtype: object\n",
      "\n",
      "\n"
     ]
    }
   ],
   "source": [
    "# 2. Select only the \"Coffee Type\" column\n",
    "print(\"2. Coffee Type column:\")\n",
    "print(df['Coffee Type'])\n",
    "print(\"\\n\")"
   ]
  },
  {
   "cell_type": "code",
   "execution_count": 52,
   "id": "3857d4f8",
   "metadata": {},
   "outputs": [
    {
     "name": "stdout",
     "output_type": "stream",
     "text": [
      "3. Units Sold on Wednesday:\n",
      "4    35\n",
      "5    25\n",
      "Name: Units Sold, dtype: int64\n",
      "\n",
      "\n"
     ]
    }
   ],
   "source": [
    "# 3. Select \"Units Sold\" for Wednesday using label-based indexing\n",
    "wednesday_units = df.loc[df['Day'] == 'Wednesday', 'Units Sold']\n",
    "print(\"3. Units Sold on Wednesday:\")\n",
    "print(wednesday_units)\n",
    "print(\"\\n\")"
   ]
  },
  {
   "cell_type": "code",
   "execution_count": 44,
   "id": "c72f6d30",
   "metadata": {},
   "outputs": [
    {
     "name": "stdout",
     "output_type": "stream",
     "text": [
      "4. Rows for Monday:\n",
      "      Day Coffee Type  Units Sold\n",
      "0  Monday    Espresso          25\n",
      "1  Monday       Latte          15\n",
      "\n",
      "\n"
     ]
    }
   ],
   "source": [
    "# 4. Select all rows where the day is Monday\n",
    "monday_sales = df[df['Day'] == 'Monday']\n",
    "print(\"4. Rows for Monday:\")\n",
    "print(monday_sales)\n",
    "print(\"\\n\")"
   ]
  },
  {
   "cell_type": "code",
   "execution_count": 53,
   "id": "860c8835",
   "metadata": {},
   "outputs": [
    {
     "name": "stdout",
     "output_type": "stream",
     "text": [
      "Here are days for 30 Plus Units\n",
      "          Day Coffee Type  Units Sold\n",
      "4   Wednesday    Espresso          35\n",
      "6    Thursday    Espresso          40\n",
      "8      Friday    Espresso          45\n",
      "9      Friday       Latte          35\n",
      "10   Saturday    Espresso          45\n",
      "11   Saturday       Latte          35\n",
      "12     Sunday    Espresso          45\n",
      "13     Sunday       Latte          35\n"
     ]
    }
   ],
   "source": [
    "high_sales = df[df['Units Sold'] > 30]\n",
    "print('Here are days for 30 Plus Units')\n",
    "print(high_sales)"
   ]
  },
  {
   "cell_type": "code",
   "execution_count": 59,
   "id": "0fbb3136",
   "metadata": {},
   "outputs": [
    {
     "name": "stdout",
     "output_type": "stream",
     "text": [
      "6. Latte sales with units sold > 25:\n",
      "         Day Coffee Type  Units Sold\n",
      "7   Thursday       Latte          30\n",
      "9     Friday       Latte          35\n",
      "11  Saturday       Latte          35\n",
      "13    Sunday       Latte          35\n",
      "\n",
      "\n"
     ]
    }
   ],
   "source": [
    "# 6. Select rows where coffee type is Latte and units sold > 25\n",
    "latte_high = df[(df['Coffee Type'] == 'Latte') & (df['Units Sold'] > 25)]\n",
    "print(\"6. Latte sales with units sold > 25:\")\n",
    "print(latte_high)\n",
    "print(\"\\n\")"
   ]
  },
  {
   "cell_type": "code",
   "execution_count": 60,
   "id": "52cd71ed",
   "metadata": {},
   "outputs": [
    {
     "name": "stdout",
     "output_type": "stream",
     "text": [
      "7. Weekend sales (Saturday and Sunday):\n",
      "         Day Coffee Type  Units Sold\n",
      "10  Saturday    Espresso          45\n",
      "11  Saturday       Latte          35\n",
      "12    Sunday    Espresso          45\n",
      "13    Sunday       Latte          35\n",
      "\n",
      "\n"
     ]
    }
   ],
   "source": [
    "# 7. Filter for weekend sales (Saturday and Sunday)\n",
    "weekend_sales = df[df['Day'].isin(['Saturday', 'Sunday'])]\n",
    "print(\"7. Weekend sales (Saturday and Sunday):\")\n",
    "print(weekend_sales)\n",
    "print(\"\\n\")"
   ]
  },
  {
   "cell_type": "code",
   "execution_count": 63,
   "id": "c9a3a395",
   "metadata": {},
   "outputs": [
    {
     "name": "stdout",
     "output_type": "stream",
     "text": [
      "8. Espresso sales with units sold between 30 and 40:\n",
      "         Day Coffee Type  Units Sold\n",
      "2    Tuesday    Espresso          30\n",
      "4  Wednesday    Espresso          35\n",
      "6   Thursday    Espresso          40\n",
      "\n",
      "\n"
     ]
    }
   ],
   "source": [
    "# 8. Filter for Espresso sales with units sold between 30 and 40 (inclusive)\n",
    "espresso_range = df[(df['Coffee Type'] == 'Espresso') & (df['Units Sold'].between(30, 40))]\n",
    "print(\"8. Espresso sales with units sold between 30 and 40:\")\n",
    "print(espresso_range)\n",
    "print(\"\\n\")"
   ]
  },
  {
   "cell_type": "code",
   "execution_count": 62,
   "id": "395d78b3",
   "metadata": {},
   "outputs": [
    {
     "name": "stdout",
     "output_type": "stream",
     "text": [
      "9. Days with Latte sales of exactly 35 units:\n",
      "         Day Coffee Type  Units Sold\n",
      "9     Friday       Latte          35\n",
      "11  Saturday       Latte          35\n",
      "13    Sunday       Latte          35\n",
      "\n",
      "\n"
     ]
    }
   ],
   "source": [
    "# 9. Filter for days where Latte sales were exactly 35 units\n",
    "latte_35 = df[(df['Coffee Type'] == 'Latte') & (df['Units Sold'] == 35)]\n",
    "print(\"9. Days with Latte sales of exactly 35 units:\")\n",
    "print(latte_35)\n",
    "print(\"\\n\")"
   ]
  },
  {
   "cell_type": "code",
   "execution_count": 61,
   "id": "b2965aae",
   "metadata": {},
   "outputs": [
    {
     "name": "stdout",
     "output_type": "stream",
     "text": [
      "10. DataFrame sorted by Units Sold (descending):\n",
      "          Day Coffee Type  Units Sold\n",
      "8      Friday    Espresso          45\n",
      "10   Saturday    Espresso          45\n",
      "12     Sunday    Espresso          45\n",
      "6    Thursday    Espresso          40\n",
      "4   Wednesday    Espresso          35\n",
      "9      Friday       Latte          35\n",
      "11   Saturday       Latte          35\n",
      "13     Sunday       Latte          35\n",
      "2     Tuesday    Espresso          30\n",
      "7    Thursday       Latte          30\n",
      "0      Monday    Espresso          25\n",
      "5   Wednesday       Latte          25\n",
      "3     Tuesday       Latte          20\n",
      "1      Monday       Latte          15\n"
     ]
    }
   ],
   "source": [
    "# 10. Sort the DataFrame by Units Sold in descending order\n",
    "sorted_df = df.sort_values(by='Units Sold', ascending=False)\n",
    "print(\"10. DataFrame sorted by Units Sold (descending):\")\n",
    "print(sorted_df)"
   ]
  }
 ],
 "metadata": {
  "kernelspec": {
   "display_name": "Python 3 (ipykernel)",
   "language": "python",
   "name": "python3"
  },
  "language_info": {
   "codemirror_mode": {
    "name": "ipython",
    "version": 3
   },
   "file_extension": ".py",
   "mimetype": "text/x-python",
   "name": "python",
   "nbconvert_exporter": "python",
   "pygments_lexer": "ipython3",
   "version": "3.11.5"
  }
 },
 "nbformat": 4,
 "nbformat_minor": 5
}
